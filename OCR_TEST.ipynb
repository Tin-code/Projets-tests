{
 "cells": [
  {
   "cell_type": "code",
   "execution_count": null,
   "id": "42c0b965",
   "metadata": {},
   "outputs": [],
   "source": [
    "import numpy as np\n",
    "import pytesseract\n",
    "tessdata_dir_config = '--tessdata-dir \"C:\\\\Program Files (x86)\\\\Tesseract-OCR\\\\tessdata\"'\n",
    "import matplotlib.pyplot as plt\n",
    "import pandas as pd\n",
    "from PIL import Image\n",
    "import cv2\n",
    "import os"
   ]
  },
  {
   "cell_type": "code",
   "execution_count": 2,
   "id": "b221cf17",
   "metadata": {},
   "outputs": [],
   "source": [
    "def afficher(image, cmap='gray'):\n",
    "    fig = plt.figure(figsize=(12,10))\n",
    "    ax = fig.add_subplot(111)\n",
    "    ax.imshow(image, cmap='gray')"
   ]
  },
  {
   "cell_type": "code",
   "execution_count": null,
   "id": "9b722f5a",
   "metadata": {},
   "outputs": [],
   "source": [
    "img = cv2.imread('brahima.jpg')\n",
    "plt.imshow(img)\n",
    "gray = cv2.cvtColor(img, cv2.COLOR_BGR2GRAY)\n",
    "th, threshed = cv2.threshold(gray, 130, 150, cv2.THRESH_TRUNC)\n",
    "text1 = pytesseract.image_to_data(threshed,output_type='data.frame')\n",
    "text2 = pytesseract.image_to_string(threshed)\n",
    "print(text2)\n",
    "text = text1[text1.conf != -1]\n",
    "lines = text.groupby('block_num')['text'].apply(list)\n",
    "conf = text.groupby(['block_num'])['conf'].mean()"
   ]
  },
  {
   "cell_type": "code",
   "execution_count": null,
   "id": "accb69c4",
   "metadata": {},
   "outputs": [],
   "source": [
    "n_boxes = len(text1['text'])\n",
    "for i in range(n_boxes):\n",
    "    if int(text1['conf'][i]) > 60:\n",
    "        (x, y, w, h) = (text1['left'][i], text1['top'][i], text1['width'][i], text1['height'][i])\n",
    "        img = cv2.rectangle(img, (x, y), (x + w, y + h), (0, 255, 0), 2)\n",
    "\n",
    "afficher(img)"
   ]
  },
  {
   "cell_type": "code",
   "execution_count": null,
   "id": "7a2a5efe",
   "metadata": {},
   "outputs": [],
   "source": []
  }
 ],
 "metadata": {
  "kernelspec": {
   "display_name": "Python 3 (ipykernel)",
   "language": "python",
   "name": "python3"
  },
  "language_info": {
   "codemirror_mode": {
    "name": "ipython",
    "version": 3
   },
   "file_extension": ".py",
   "mimetype": "text/x-python",
   "name": "python",
   "nbconvert_exporter": "python",
   "pygments_lexer": "ipython3",
   "version": "3.9.7"
  }
 },
 "nbformat": 4,
 "nbformat_minor": 5
}
